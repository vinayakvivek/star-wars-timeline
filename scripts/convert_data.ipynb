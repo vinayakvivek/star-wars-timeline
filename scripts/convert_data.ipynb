{
 "metadata": {
  "language_info": {
   "codemirror_mode": {
    "name": "ipython",
    "version": 3
   },
   "file_extension": ".py",
   "mimetype": "text/x-python",
   "name": "python",
   "nbconvert_exporter": "python",
   "pygments_lexer": "ipython3",
   "version": "3.9.1"
  },
  "orig_nbformat": 2,
  "kernelspec": {
   "name": "python391jvsc74a57bd0aee8b7b246df8f9039afb4144a1f6fd8d2ca17a180786b69acc140d282b71a49",
   "display_name": "Python 3.9.1 64-bit"
  },
  "metadata": {
   "interpreter": {
    "hash": "aee8b7b246df8f9039afb4144a1f6fd8d2ca17a180786b69acc140d282b71a49"
   }
  }
 },
 "nbformat": 4,
 "nbformat_minor": 2,
 "cells": [
  {
   "cell_type": "code",
   "execution_count": 2,
   "metadata": {},
   "outputs": [],
   "source": [
    "import pandas as pd\n",
    "import math"
   ]
  },
  {
   "cell_type": "code",
   "execution_count": 3,
   "metadata": {},
   "outputs": [],
   "source": [
    "sheet_id = \"1KaB4ti8NissgX45bOuRpnoE07qknv7VQk_ECJ1zpJt0\"\n",
    "sheet_name = \"Star\\ Wars\\ Universe\"\n",
    "url = f\"https://docs.google.com/spreadsheets/d/{sheet_id}/gviz/tq?tqx=out:csv\"\n",
    "df = pd.read_csv('StarWarsUniverse.csv', keep_default_na=False)"
   ]
  },
  {
   "cell_type": "code",
   "execution_count": 5,
   "metadata": {},
   "outputs": [],
   "source": [
    "def parse_date(date_str):\n",
    "    if date_str == '':\n",
    "        return\n",
    "    parts = date_str.split('-')\n",
    "    parts = [p.strip() for p in parts]\n",
    "    if len(parts) == 1:\n",
    "        [year, label] = parts[0].split(' ')\n",
    "        year = float(year)\n",
    "        if label == 'BBY':\n",
    "            year *= -1 \n",
    "        return [year]\n",
    "    elif len(parts) == 2:\n",
    "        [p1, p2] = parts\n",
    "        p1_parts = p1.split(' ')\n",
    "        y1 = float(p1_parts[0])\n",
    "        if len(p1_parts) == 2 and p1_parts[1] == 'BBY':\n",
    "            y1 *= -1\n",
    "        p2_parts = p2.split(' ')\n",
    "        y2 = float(p2_parts[0])\n",
    "        if p2_parts[1] == 'BBY':\n",
    "            y2 *= -1\n",
    "            if y1 > 0:\n",
    "                y1 *= -1\n",
    "        return [y1, y2]\n",
    "    return None\n",
    "\n",
    "def parse_rdate(date_str):\n",
    "    if date_str == '':\n",
    "        return\n",
    "    parts = date_str.split('-')\n",
    "    parts = [p.strip() for p in parts]\n",
    "    if len(parts) == 1:\n",
    "        return [ int(parts[0].split(' ')[0].strip()) ]\n",
    "    else:\n",
    "        return [ int(parts[0]), int(parts[1]) ]\n",
    "\n",
    "names = list(df['Name'])\n",
    "dates = list(df['Date (Galactic Calendar)'])\n",
    "dates = [parse_date(str(d)) for d in dates]\n",
    "rdates = list(df['Release date'])\n",
    "rdates = [parse_rdate(str(d)) for d in rdates]\n",
    "types = list(df['Type'])\n",
    "\n",
    "n = len(names)\n",
    "data = []\n",
    "for i in range(n):\n",
    "    name = names[i]\n",
    "    fname = \"\".join(x for x in name if x.isalnum())\n",
    "    item = { \n",
    "        'name': name,\n",
    "        'releaseDate': rdates[i],\n",
    "        'type': types[i],\n",
    "        'thumbnail': f\"/images/{fname}.jpg\",\n",
    "        'params': {}\n",
    "    }\n",
    "    if dates[i] is None:\n",
    "        continue\n",
    "    if len(dates[i]) == 1:\n",
    "        item['year'] = dates[i][0]\n",
    "    else:\n",
    "        item['startYear'] = dates[i][0]\n",
    "        item['endYear'] = dates[i][1]\n",
    "    data.append(item)\n",
    "\n",
    "import json\n",
    "save_path = '../src/js/data2.json'\n",
    "with open(save_path, 'w') as f:\n",
    "    json.dump(data, f)"
   ]
  },
  {
   "cell_type": "code",
   "execution_count": null,
   "metadata": {},
   "outputs": [],
   "source": []
  }
 ]
}