{
 "metadata": {
  "language_info": {
   "codemirror_mode": {
    "name": "ipython",
    "version": 3
   },
   "file_extension": ".py",
   "mimetype": "text/x-python",
   "name": "python",
   "nbconvert_exporter": "python",
   "pygments_lexer": "ipython3",
   "version": "3.9.5"
  },
  "orig_nbformat": 2,
  "kernelspec": {
   "name": "python395jvsc74a57bd0ac2eaa0ea0ebeafcc7822e65e46aa9d4f966f30b695406963e145ea4a91cd4fc",
   "display_name": "Python 3.9.5 64-bit ('python@3.9')"
  },
  "metadata": {
   "interpreter": {
    "hash": "ac2eaa0ea0ebeafcc7822e65e46aa9d4f966f30b695406963e145ea4a91cd4fc"
   }
  }
 },
 "nbformat": 4,
 "nbformat_minor": 2,
 "cells": [
  {
   "cell_type": "code",
   "execution_count": 1,
   "metadata": {},
   "outputs": [],
   "source": [
    "from google.oauth2 import service_account\n",
    "from googleapiclient.discovery import build\n",
    "from google_auth_oauthlib.flow import InstalledAppFlow\n",
    "from google.auth.transport.requests import Request\n",
    "\n",
    "SCOPES = [\"https://www.googleapis.com/auth/spreadsheets.readonly\"]\n",
    "SERVICE_ACCOUNT_FILE = \"key.json\"\n",
    "\n",
    "credentials = service_account.Credentials.from_service_account_file(\n",
    "    SERVICE_ACCOUNT_FILE, scopes=SCOPES\n",
    ")\n",
    "\n",
    "SHEET_ID = \"1KaB4ti8NissgX45bOuRpnoE07qknv7VQk_ECJ1zpJt0\"\n",
    "LAST_ROW = 155\n",
    "RANGE = f\"Star Wars Universe!A2:F{LAST_ROW}\"\n",
    "\n",
    "service = build(\"sheets\", \"v4\", credentials=credentials)\n",
    "sheet = service.spreadsheets()\n",
    "result = (\n",
    "    sheet.values()\n",
    "    .get(\n",
    "        spreadsheetId=SHEET_ID,\n",
    "        range=RANGE,\n",
    "        # valueRenderOption=\"FORMULA\",\n",
    "    )\n",
    "    .execute()\n",
    ")\n",
    "values = result['values']"
   ]
  },
  {
   "cell_type": "code",
   "execution_count": 2,
   "metadata": {},
   "outputs": [],
   "source": [
    "from utils import parse_date, parse_rdate\n",
    "import re\n",
    "\n",
    "data = []\n",
    "for row in values:\n",
    "    # name = re.sub('[]+', '', row[0])\n",
    "    name = row[0].encode(\"ascii\", \"ignore\").decode().strip()\n",
    "    fname = \"\".join(x for x in name if x.isalnum())\n",
    "    item = { \n",
    "        'name': name,\n",
    "        'releaseDate': parse_rdate(row[3]),\n",
    "        'type': row[2],\n",
    "        'thumbnail': f\"/images/{fname}.jpg\",\n",
    "        'link': row[4],\n",
    "        'imageUrl': row[5] if len(row) > 5 else '',\n",
    "        'params': {}\n",
    "    }\n",
    "    date = parse_date(row[1])\n",
    "    if date is None:\n",
    "        continue\n",
    "    if len(date) == 1:\n",
    "        item['year'] = date[0]\n",
    "    else:\n",
    "        item['startYear'] = date[0]\n",
    "        item['endYear'] = date[1]\n",
    "    data.append(item)"
   ]
  },
  {
   "cell_type": "code",
   "execution_count": 5,
   "metadata": {},
   "outputs": [
    {
     "output_type": "stream",
     "name": "stdout",
     "text": [
      "Fetching image: ../static/images/JediFallenOrderDarkTemple.jpg\nImage already exists: ../static/images/JediFallenOrderDarkTemple.jpg\nFetching image: ../static/images/AgeofRebellionDarthVader.jpg\nImage already exists: ../static/images/AgeofRebellionDarthVader.jpg\nSaved data: ../src/data/data3.json\n"
     ]
    }
   ],
   "source": [
    "import json\n",
    "from random import random\n",
    "import os\n",
    "from utils import fetch_image\n",
    "\n",
    "curr_data_path = '../src/data/data.json'\n",
    "data_path = '../src/data/data3.json'\n",
    "static_dir = '../static'\n",
    "\n",
    "with open(curr_data_path, 'r') as f:\n",
    "    curr_data = json.load(f)\n",
    "\n",
    "def fetch_curr_params(name):\n",
    "    for item in curr_data:\n",
    "        if item['name'] == name:\n",
    "            return item['params']\n",
    "    return None\n",
    "\n",
    "for item in data:\n",
    "    name = item['name']\n",
    "\n",
    "    # fetch image\n",
    "    if item['imageUrl'] != \"\":\n",
    "        save_path = static_dir + item['thumbnail']\n",
    "        fetch_image(item['imageUrl'], item['type'], save_path)\n",
    "        \n",
    "    curr_params = fetch_curr_params(name)\n",
    "    if curr_params is None:\n",
    "        print(f'[{name}] is new. Assigning random position')\n",
    "        item['params'] = {\n",
    "            'height': 1.0,\n",
    "            'pos': (random() - 0.5) * 5\n",
    "        }\n",
    "    else:\n",
    "        item['params'] = curr_params\n",
    "\n",
    "\n",
    "with open(data_path, 'w') as f:\n",
    "    json.dump(data, f)\n",
    "    print(f'Saved data: {data_path}')"
   ]
  },
  {
   "cell_type": "code",
   "execution_count": 4,
   "metadata": {},
   "outputs": [
    {
     "output_type": "execute_result",
     "data": {
      "text/plain": [
       "{'name': 'Jedi Fallen Order - Dark Temple',\n",
       " 'releaseDate': [2019],\n",
       " 'type': 'Comic',\n",
       " 'thumbnail': '/images/JediFallenOrderDarkTemple.jpg',\n",
       " 'link': 'https://starwars.fandom.com/wiki/Star_Wars:_Jedi_Fallen_Order_-_Dark_Temple',\n",
       " 'imageUrl': 'https://static.wikia.nocookie.net/starwars/images/c/cb/Jedi_Fallen_Order_Dark_Temple_TPB_final_cover.jpg/revision/latest/scale-to-width-down/1000?cb=20201106104235',\n",
       " 'params': {'height': 1.0, 'pos': 2.152094715864454},\n",
       " 'year': -42.0}"
      ]
     },
     "metadata": {},
     "execution_count": 4
    }
   ],
   "source": [
    "data[0]"
   ]
  },
  {
   "cell_type": "code",
   "execution_count": null,
   "metadata": {},
   "outputs": [],
   "source": []
  }
 ]
}