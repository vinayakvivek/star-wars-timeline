{
 "metadata": {
  "language_info": {
   "codemirror_mode": {
    "name": "ipython",
    "version": 3
   },
   "file_extension": ".py",
   "mimetype": "text/x-python",
   "name": "python",
   "nbconvert_exporter": "python",
   "pygments_lexer": "ipython3",
   "version": "3.9.1"
  },
  "orig_nbformat": 2,
  "kernelspec": {
   "name": "python391jvsc74a57bd0aee8b7b246df8f9039afb4144a1f6fd8d2ca17a180786b69acc140d282b71a49",
   "display_name": "Python 3.9.1 64-bit"
  },
  "metadata": {
   "interpreter": {
    "hash": "aee8b7b246df8f9039afb4144a1f6fd8d2ca17a180786b69acc140d282b71a49"
   }
  }
 },
 "nbformat": 4,
 "nbformat_minor": 2,
 "cells": [
  {
   "cell_type": "code",
   "execution_count": 10,
   "metadata": {},
   "outputs": [],
   "source": [
    "from google.oauth2 import service_account\n",
    "from googleapiclient.discovery import build\n",
    "from google_auth_oauthlib.flow import InstalledAppFlow\n",
    "from google.auth.transport.requests import Request\n",
    "\n",
    "SCOPES = [\"https://www.googleapis.com/auth/spreadsheets.readonly\"]\n",
    "SERVICE_ACCOUNT_FILE = \"key.json\"\n",
    "\n",
    "credentials = service_account.Credentials.from_service_account_file(\n",
    "    SERVICE_ACCOUNT_FILE, scopes=SCOPES\n",
    ")\n",
    "\n",
    "SHEET_ID = \"1KaB4ti8NissgX45bOuRpnoE07qknv7VQk_ECJ1zpJt0\"\n",
    "RANGE = \"Star Wars Universe!A2:E155\"\n",
    "\n",
    "service = build(\"sheets\", \"v4\", credentials=credentials)\n",
    "sheet = service.spreadsheets()\n",
    "result = (\n",
    "    sheet.values()\n",
    "    .get(\n",
    "        spreadsheetId=SHEET_ID,\n",
    "        range=RANGE,\n",
    "        # valueRenderOption=\"FORMULA\",\n",
    "    )\n",
    "    .execute()\n",
    ")\n",
    "values = result['values']"
   ]
  },
  {
   "cell_type": "code",
   "execution_count": 3,
   "metadata": {},
   "outputs": [],
   "source": [
    "def parse_date(date_str):\n",
    "    if date_str == '':\n",
    "        return\n",
    "    parts = date_str.split('-')\n",
    "    parts = [p.strip() for p in parts]\n",
    "    if len(parts) == 1:\n",
    "        [year, label] = parts[0].split(' ')\n",
    "        year = float(year)\n",
    "        if label == 'BBY':\n",
    "            year *= -1 \n",
    "        return [year]\n",
    "    elif len(parts) == 2:\n",
    "        [p1, p2] = parts\n",
    "        p1_parts = p1.split(' ')\n",
    "        y1 = float(p1_parts[0])\n",
    "        if len(p1_parts) == 2 and p1_parts[1] == 'BBY':\n",
    "            y1 *= -1\n",
    "        p2_parts = p2.split(' ')\n",
    "        y2 = float(p2_parts[0])\n",
    "        if p2_parts[1] == 'BBY':\n",
    "            y2 *= -1\n",
    "            if y1 > 0:\n",
    "                y1 *= -1\n",
    "        return [y1, y2]\n",
    "    return None\n",
    "\n",
    "def parse_rdate(date_str):\n",
    "    if date_str == '':\n",
    "        return\n",
    "    parts = date_str.split('-')\n",
    "    parts = [p.strip() for p in parts]\n",
    "    if len(parts) == 1:\n",
    "        return [ int(parts[0].split(' ')[0].strip()) ]\n",
    "    else:\n",
    "        return [ int(parts[0]), int(parts[1]) ]"
   ]
  },
  {
   "cell_type": "code",
   "execution_count": 15,
   "metadata": {},
   "outputs": [],
   "source": [
    "data = []\n",
    "for row in values:\n",
    "    name = row[0]\n",
    "    fname = \"\".join(x for x in name if x.isalnum())\n",
    "    item = { \n",
    "        'name': name,\n",
    "        'releaseDate': parse_rdate(row[3]),\n",
    "        'type': row[2],\n",
    "        'thumbnail': f\"/images/{fname}.jpg\",\n",
    "        'params': {}\n",
    "    }\n",
    "    date = parse_date(row[1])\n",
    "    if date is None:\n",
    "        continue\n",
    "    if len(date) == 1:\n",
    "        item['year'] = date[0]\n",
    "    else:\n",
    "        item['startYear'] = date[0]\n",
    "        item['endYear'] = date[1]\n",
    "    data.append(item)"
   ]
  },
  {
   "cell_type": "code",
   "execution_count": null,
   "metadata": {},
   "outputs": [],
   "source": []
  }
 ]
}