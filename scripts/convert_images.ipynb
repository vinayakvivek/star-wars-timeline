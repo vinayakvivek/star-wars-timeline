{
 "metadata": {
  "language_info": {
   "codemirror_mode": {
    "name": "ipython",
    "version": 3
   },
   "file_extension": ".py",
   "mimetype": "text/x-python",
   "name": "python",
   "nbconvert_exporter": "python",
   "pygments_lexer": "ipython3",
   "version": "3.9.1"
  },
  "orig_nbformat": 2,
  "kernelspec": {
   "name": "python391jvsc74a57bd0aee8b7b246df8f9039afb4144a1f6fd8d2ca17a180786b69acc140d282b71a49",
   "display_name": "Python 3.9.1 64-bit"
  },
  "metadata": {
   "interpreter": {
    "hash": "aee8b7b246df8f9039afb4144a1f6fd8d2ca17a180786b69acc140d282b71a49"
   }
  }
 },
 "nbformat": 4,
 "nbformat_minor": 2,
 "cells": [
  {
   "cell_type": "code",
   "execution_count": 1,
   "metadata": {},
   "outputs": [],
   "source": [
    "from PIL import Image\n",
    "import os\n",
    "import json"
   ]
  },
  {
   "cell_type": "code",
   "execution_count": 4,
   "metadata": {},
   "outputs": [],
   "source": [
    "file_path = '../static/images/a-new-hope.webp'\n",
    "im = Image.open(file_path)\n",
    "rgb_im = im.convert(\"RGB\")\n",
    "\n",
    "rgb_im.save(\"tmp/ANewHope.jpg\")"
   ]
  },
  {
   "cell_type": "code",
   "execution_count": 7,
   "metadata": {},
   "outputs": [],
   "source": [
    "base_dir = '../static/images'\n",
    "for file_name in os.listdir(base_dir):\n",
    "    file_path = os.path.join(base_dir, file_name)\n",
    "    if os.path.isfile(file_path):\n",
    "        im = Image.open(file_path)\n",
    "        rgb_im = im.convert(\"RGB\")\n",
    "        save_path = os.path.join('tmp', file_name.split('.')[0] + '.jpg')\n",
    "        rgb_im.save(save_path)"
   ]
  },
  {
   "cell_type": "code",
   "execution_count": 10,
   "metadata": {},
   "outputs": [],
   "source": [
    "data_file = '../src/js/data.json'\n",
    "with open(data_file, 'r') as f:\n",
    "    data = json.load(f)\n",
    "\n",
    "def crop(im, aspect_ratio = 1.6):\n",
    "    (w, h) = im.size\n",
    "    if h > w * aspect_ratio:\n",
    "        # use max width, crop height\n",
    "        th = w * aspect_ratio\n",
    "        top = (h - th) / 2\n",
    "        bottom = (h + th) / 2\n",
    "        return im.crop((0, top, w, bottom))\n",
    "    else:\n",
    "        tw = h / aspect_ratio\n",
    "        left = (w - tw) / 2\n",
    "        right = (w + tw) / 2\n",
    "        return im.crop((left, 0, right, h))\n",
    "\n",
    "\n",
    "base_dir = '../static/images'\n",
    "size = 512\n",
    "for item in data:\n",
    "    fname = \"\".join(x for x in item['name'] if x.isalnum())\n",
    "    file_path = os.path.join(base_dir, item['thumbnail'].split('/images/')[1])\n",
    "    im = Image.open(file_path)\n",
    "\n",
    "    if item['type'] in [\"Novel\", \"Comic\", \"Junior Novel\"]:\n",
    "        im = crop(im, 1.6)\n",
    "        im = im.resize((size, int(size * 1.6)), Image.ANTIALIAS)\n",
    "    else:\n",
    "        im = crop(im, 1.0)\n",
    "        im = im.resize((size, size), Image.ANTIALIAS)\n",
    "    \n",
    "    rgb_im = im.convert(\"RGB\")\n",
    "    save_path = os.path.join('tmp', fname + '.jpg')\n",
    "    rgb_im.save(save_path, optimize=True, quality=50)"
   ]
  },
  {
   "cell_type": "code",
   "execution_count": 12,
   "metadata": {},
   "outputs": [],
   "source": [
    "# for file in os.listdir('tmp'):\n",
    "#     im = Image.open('tmp/' + file)\n",
    "#     print(im.size)\n",
    "#     im.close()\n",
    "import json\n",
    "\n",
    "data_file = '../src/js/data.json'\n",
    "with open(data_file, 'r') as f:\n",
    "    data = json.load(f)\n",
    "\n",
    "for item in data:\n",
    "    fname = \"\".join(x for x in item['name'] if x.isalnum())\n",
    "    item['thumbnail'] = '/tmp/' + fname + '.jpg'\n",
    "\n",
    "save_file = '../src/js/data2.json'\n",
    "with open(save_file, 'w') as f:\n",
    "    json.dump(data, f)"
   ]
  },
  {
   "cell_type": "code",
   "execution_count": null,
   "metadata": {},
   "outputs": [],
   "source": []
  }
 ]
}